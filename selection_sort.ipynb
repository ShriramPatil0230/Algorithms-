{
 "cells": [
  {
   "cell_type": "code",
   "execution_count": 1,
   "metadata": {},
   "outputs": [
    {
     "name": "stdout",
     "output_type": "stream",
     "text": [
      "[56, 3, 2, 78, 6, 0]\n",
      "[0, 2, 3, 6, 56, 78]\n"
     ]
    }
   ],
   "source": [
    "list1=[56,3,2,78,6,0]\n",
    "print(list1)\n",
    "for i in range(len(list1)):\n",
    " min_value=min(list1[i:])\n",
    " min_index=list1.index(min_value)\n",
    " list1[i],list1[min_index]=list1[min_index],list1[i]\n",
    "print(list1)"
   ]
  },
  {
   "cell_type": "code",
   "execution_count": 2,
   "metadata": {},
   "outputs": [
    {
     "name": "stdout",
     "output_type": "stream",
     "text": [
      "[2, 6, 3, 5, 4]\n",
      "[2, 3, 4, 5, 6]\n"
     ]
    }
   ],
   "source": [
    "list=[2,6,3,5,4]\n",
    "print(list)\n",
    "for i in range(len(list)):\n",
    "    min1=min(list[i:])\n",
    "    min2=list.index(min1)\n",
    "    list[i],list[min2]=list[min2],list[i]\n",
    "print(list)\n",
    "    "
   ]
  },
  {
   "cell_type": "code",
   "execution_count": null,
   "metadata": {},
   "outputs": [],
   "source": []
  }
 ],
 "metadata": {
  "kernelspec": {
   "display_name": "Python 3",
   "language": "python",
   "name": "python3"
  },
  "language_info": {
   "codemirror_mode": {
    "name": "ipython",
    "version": 3
   },
   "file_extension": ".py",
   "mimetype": "text/x-python",
   "name": "python",
   "nbconvert_exporter": "python",
   "pygments_lexer": "ipython3",
   "version": "3.8.5"
  }
 },
 "nbformat": 4,
 "nbformat_minor": 4
}
