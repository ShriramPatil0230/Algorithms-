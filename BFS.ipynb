{
 "cells": [
  {
   "cell_type": "code",
   "execution_count": 31,
   "metadata": {},
   "outputs": [
    {
     "name": "stdout",
     "output_type": "stream",
     "text": [
      "Following is BFS\n",
      "A B D C "
     ]
    }
   ],
   "source": [
    "adj_list = {\n",
    "     \"A\":[\"B\",\"D\"],\n",
    "     \"B\":[\"A\",\"C\"],\n",
    "     \"C\":[\"B\"],\n",
    "     \"D\":[\"A\"],\n",
    "     \n",
    "}\n",
    "visited=[]\n",
    "queue=[]\n",
    "\n",
    "def bfs(visited, adj_list, node):\n",
    "     visited.append(node)\n",
    "     queue.append(node)\n",
    "\n",
    "     while queue:\n",
    "         m = queue.pop(0)\n",
    "         print(m,end=\" \")\n",
    "\n",
    "         for neighbour in adj_list[m]:\n",
    "             if neighbour not in visited:\n",
    "                 visited.append(neighbour)\n",
    "                 queue.append(neighbour)\n",
    "\n",
    "print(\"Following is BFS\")\n",
    "bfs(visited, adj_list, 'A')"
   ]
  },
  {
   "cell_type": "code",
   "execution_count": 36,
   "metadata": {},
   "outputs": [
    {
     "name": "stdout",
     "output_type": "stream",
     "text": [
      "BFS\n",
      "A B C D "
     ]
    }
   ],
   "source": [
    "list={\n",
    "    \"A\":[\"B\",\"C\"],\n",
    "    \"B\":[\"A\",\"D\"],\n",
    "    \"D\":[\"B\"],\n",
    "    \"C\":[\"A\"],\n",
    "    \n",
    "}\n",
    "visited=[]\n",
    "queue=[]\n",
    "\n",
    "def bfs(visited, list, node):\n",
    "    visited.append(node)\n",
    "    queue.append(node)\n",
    "    \n",
    "    while queue:\n",
    "        m = queue.pop(0)\n",
    "        print(m,end=\" \")\n",
    "        \n",
    "        for neighbour in  list[m]:\n",
    "            if neighbour not in visited:\n",
    "                visited.append(neighbour)\n",
    "                queue.append(neighbour)\n",
    "                \n",
    "print(\"BFS\")                \n",
    "bfs(visited, list,'A')"
   ]
  },
  {
   "cell_type": "code",
   "execution_count": null,
   "metadata": {},
   "outputs": [],
   "source": []
  }
 ],
 "metadata": {
  "kernelspec": {
   "display_name": "Python 3",
   "language": "python",
   "name": "python3"
  },
  "language_info": {
   "codemirror_mode": {
    "name": "ipython",
    "version": 3
   },
   "file_extension": ".py",
   "mimetype": "text/x-python",
   "name": "python",
   "nbconvert_exporter": "python",
   "pygments_lexer": "ipython3",
   "version": "3.8.5"
  }
 },
 "nbformat": 4,
 "nbformat_minor": 4
}
