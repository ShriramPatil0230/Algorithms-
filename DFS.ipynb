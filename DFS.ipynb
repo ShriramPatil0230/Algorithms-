{
 "cells": [
  {
   "cell_type": "code",
   "execution_count": 10,
   "metadata": {},
   "outputs": [
    {
     "name": "stdout",
     "output_type": "stream",
     "text": [
      "{'A': 'W', 'B': 'W', 'C': 'W', 'D': 'W', 'E': 'W', 'F': 'W'}\n",
      "{'A': None, 'B': None, 'C': None, 'D': None, 'E': None, 'F': None}\n",
      "{'A': [-1, -1], 'B': [-1, -1], 'C': [-1, -1], 'D': [-1, -1], 'E': [-1, -1], 'F': [-1, -1]}\n",
      "['A', 'B', 'D', 'E', 'F', 'C']\n",
      "{'A': None, 'B': 'A', 'C': 'A', 'D': 'B', 'E': 'B', 'F': 'E'}\n",
      "{'A': [0, 11], 'B': [1, 8], 'C': [9, 10], 'D': [2, 3], 'E': [4, 7], 'F': [5, 6]}\n",
      "A --> [0, 11]\n",
      "B --> [1, 8]\n",
      "C --> [9, 10]\n",
      "D --> [2, 3]\n",
      "E --> [4, 7]\n",
      "F --> [5, 6]\n"
     ]
    }
   ],
   "source": [
    "adj_list ={\n",
    " 'A':['B','C'],\n",
    " 'B':['D','E'],\n",
    " 'C':['B','F'],\n",
    " 'D':[],\n",
    " 'E':['F'],\n",
    " 'F':[]\n",
    "}\n",
    "color={}\n",
    "\n",
    "parent={}\n",
    "\n",
    "trav_time ={}\n",
    "\n",
    "dfs_traversal_output=[]\n",
    "\n",
    "for node in adj_list.keys():\n",
    "     color[node]=\"W\"\n",
    "     parent[node]=None\n",
    "     trav_time[node]=[-1,-1]\n",
    "print(color)\n",
    "print(parent)\n",
    "print(trav_time)\n",
    "\n",
    "time=0\n",
    "def dfs_util(u):\n",
    "     global time\n",
    "     color[u]=\"G\"\n",
    "     trav_time[u][0]=time #start time assign\n",
    "     dfs_traversal_output.append(u)\n",
    "     time +=1 #whenever we change the color of node then we should increment the time by one\n",
    "     for v in adj_list[u]:\n",
    "         if color[v] ==\"W\":\n",
    "             parent[v]=u\n",
    "             dfs_util(v)\n",
    "     color[u]=\"B\"\n",
    "     trav_time[u][1]=time\n",
    "     time+=1\n",
    "\n",
    "dfs_util(\"A\")\n",
    "print(dfs_traversal_output)\n",
    "print(parent) #dfs tree creation\n",
    "print(trav_time)\n",
    "\n",
    "for node in adj_list.keys():\n",
    "     print(node,\"-->\",trav_time[node])\n"
   ]
  },
  {
   "cell_type": "code",
   "execution_count": 9,
   "metadata": {},
   "outputs": [
    {
     "name": "stdout",
     "output_type": "stream",
     "text": [
      "Following is the Depth-First Search\n",
      "A\n",
      "B\n",
      "C\n",
      "D\n"
     ]
    }
   ],
   "source": [
    "graph = {\n",
    "  'A' : ['B','D'],\n",
    "  'B' : ['A', 'C'],\n",
    "  'C' : ['B'],\n",
    "  'D' : ['A'],\n",
    "}\n",
    "\n",
    "visited =set()\n",
    "\n",
    "def dfs(visited, graph, node): \n",
    "    if node not in visited:\n",
    "        print (node)\n",
    "        visited.add(node)\n",
    "        for neighbour in graph[node]:\n",
    "            dfs(visited, graph, neighbour)\n",
    "\n",
    "print(\"Following is the Depth-First Search\")\n",
    "dfs(visited, graph, 'A')"
   ]
  },
  {
   "cell_type": "code",
   "execution_count": 11,
   "metadata": {},
   "outputs": [
    {
     "name": "stdout",
     "output_type": "stream",
     "text": [
      "DFS\n",
      "A\n",
      "B\n",
      "C\n",
      "D\n"
     ]
    }
   ],
   "source": [
    "list={\n",
    "    \"A\":[\"B\",\"D\"],\n",
    "    \"B\":[\"A\",\"C\"],\n",
    "    \"C\":[\"B\"],\n",
    "    \"D\":[\"A\"],\n",
    "}\n",
    "visited=set()\n",
    "def dfs(visited,list,node):\n",
    "    if node not in visited:\n",
    "        print(node)\n",
    "        visited.add(node)\n",
    "        for neighbour in list[node]:\n",
    "            dfs(visited, list,neighbour)\n",
    "            \n",
    "print(\"DFS\")            \n",
    "dfs(visited,list,'A')"
   ]
  },
  {
   "cell_type": "code",
   "execution_count": null,
   "metadata": {},
   "outputs": [],
   "source": []
  }
 ],
 "metadata": {
  "kernelspec": {
   "display_name": "Python 3",
   "language": "python",
   "name": "python3"
  },
  "language_info": {
   "codemirror_mode": {
    "name": "ipython",
    "version": 3
   },
   "file_extension": ".py",
   "mimetype": "text/x-python",
   "name": "python",
   "nbconvert_exporter": "python",
   "pygments_lexer": "ipython3",
   "version": "3.8.5"
  }
 },
 "nbformat": 4,
 "nbformat_minor": 4
}
